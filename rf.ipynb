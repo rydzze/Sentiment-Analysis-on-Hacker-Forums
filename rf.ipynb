{
 "cells": [
  {
   "cell_type": "markdown",
   "metadata": {},
   "source": [
    "# **Random Forest**"
   ]
  },
  {
   "cell_type": "markdown",
   "metadata": {},
   "source": [
    "## **Importing Libraries**"
   ]
  },
  {
   "cell_type": "code",
   "execution_count": 1,
   "metadata": {},
   "outputs": [],
   "source": [
    "import re\n",
    "import pandas as pd\n",
    "import seaborn as sns\n",
    "import matplotlib.pyplot as plt\n",
    "from nltk.corpus import stopwords\n",
    "from nltk.tokenize import word_tokenize\n",
    "from nltk.stem import WordNetLemmatizer\n",
    "\n",
    "from sklearn.feature_extraction.text import CountVectorizer\n",
    "from sklearn.model_selection import train_test_split\n",
    "from sklearn.preprocessing import LabelEncoder\n",
    "from sklearn.metrics import classification_report, confusion_matrix, accuracy_score, precision_score, recall_score, f1_score\n",
    "\n",
    "from sklearn.ensemble import RandomForestClassifier\n",
    "from sklearn.model_selection import GridSearchCV"
   ]
  },
  {
   "cell_type": "markdown",
   "metadata": {},
   "source": [
    "## **Loading Data**"
   ]
  },
  {
   "cell_type": "code",
   "execution_count": 2,
   "metadata": {},
   "outputs": [
    {
     "data": {
      "text/html": [
       "<div>\n",
       "<style scoped>\n",
       "    .dataframe tbody tr th:only-of-type {\n",
       "        vertical-align: middle;\n",
       "    }\n",
       "\n",
       "    .dataframe tbody tr th {\n",
       "        vertical-align: top;\n",
       "    }\n",
       "\n",
       "    .dataframe thead th {\n",
       "        text-align: right;\n",
       "    }\n",
       "</style>\n",
       "<table border=\"1\" class=\"dataframe\">\n",
       "  <thead>\n",
       "    <tr style=\"text-align: right;\">\n",
       "      <th></th>\n",
       "      <th>content</th>\n",
       "      <th>dataset</th>\n",
       "      <th>label</th>\n",
       "    </tr>\n",
       "  </thead>\n",
       "  <tbody>\n",
       "    <tr>\n",
       "      <th>0</th>\n",
       "      <td>PrestaShop Recipes A Problem Solution Approach...</td>\n",
       "      <td>D3DreamMarket</td>\n",
       "      <td>NO</td>\n",
       "    </tr>\n",
       "    <tr>\n",
       "      <th>1</th>\n",
       "      <td>Nice post bond.  Just remove typo -       Or...</td>\n",
       "      <td>D4Garage4hackers</td>\n",
       "      <td>NO</td>\n",
       "    </tr>\n",
       "    <tr>\n",
       "      <th>2</th>\n",
       "      <td>Latest version of wifite (v2) has also inclu...</td>\n",
       "      <td>D4Garage4hackers</td>\n",
       "      <td>YES</td>\n",
       "    </tr>\n",
       "    <tr>\n",
       "      <th>3</th>\n",
       "      <td>On Sunday, the 28th of November 2010 around ...</td>\n",
       "      <td>D4Garage4hackers</td>\n",
       "      <td>YES</td>\n",
       "    </tr>\n",
       "    <tr>\n",
       "      <th>4</th>\n",
       "      <td>I have to strongly disagree with the statement...</td>\n",
       "      <td>D2Twitter</td>\n",
       "      <td>NO</td>\n",
       "    </tr>\n",
       "    <tr>\n",
       "      <th>5</th>\n",
       "      <td>[RT] [USERNAME] Hack Remote Windows 10 Passwor...</td>\n",
       "      <td>D2Twitter</td>\n",
       "      <td>YES</td>\n",
       "    </tr>\n",
       "    <tr>\n",
       "      <th>6</th>\n",
       "      <td>how to crack realityking.com</td>\n",
       "      <td>D2CrackingFire</td>\n",
       "      <td>NO</td>\n",
       "    </tr>\n",
       "    <tr>\n",
       "      <th>7</th>\n",
       "      <td>THE BEST PRO WIFI HACKING TOOLS PACK 2017  Her...</td>\n",
       "      <td>D3DreamMarket</td>\n",
       "      <td>YES</td>\n",
       "    </tr>\n",
       "    <tr>\n",
       "      <th>8</th>\n",
       "      <td>[RT] [USERNAME] Analysing the NULL SecurityDes...</td>\n",
       "      <td>D2Twitter</td>\n",
       "      <td>YES</td>\n",
       "    </tr>\n",
       "    <tr>\n",
       "      <th>9</th>\n",
       "      <td>Quote: Originally Posted by ShockiNN Well the ...</td>\n",
       "      <td>D1CrackingArena</td>\n",
       "      <td>NO</td>\n",
       "    </tr>\n",
       "  </tbody>\n",
       "</table>\n",
       "</div>"
      ],
      "text/plain": [
       "                                             content           dataset label\n",
       "0  PrestaShop Recipes A Problem Solution Approach...     D3DreamMarket    NO\n",
       "1    Nice post bond.  Just remove typo -       Or...  D4Garage4hackers    NO\n",
       "2    Latest version of wifite (v2) has also inclu...  D4Garage4hackers   YES\n",
       "3    On Sunday, the 28th of November 2010 around ...  D4Garage4hackers   YES\n",
       "4  I have to strongly disagree with the statement...         D2Twitter    NO\n",
       "5  [RT] [USERNAME] Hack Remote Windows 10 Passwor...         D2Twitter   YES\n",
       "6                       how to crack realityking.com    D2CrackingFire    NO\n",
       "7  THE BEST PRO WIFI HACKING TOOLS PACK 2017  Her...     D3DreamMarket   YES\n",
       "8  [RT] [USERNAME] Analysing the NULL SecurityDes...         D2Twitter   YES\n",
       "9  Quote: Originally Posted by ShockiNN Well the ...   D1CrackingArena    NO"
      ]
     },
     "execution_count": 2,
     "metadata": {},
     "output_type": "execute_result"
    }
   ],
   "source": [
    "df = pd.read_csv('datasets/combined_dataset.csv')\n",
    "\n",
    "df.head(10)"
   ]
  },
  {
   "cell_type": "markdown",
   "metadata": {},
   "source": [
    "## **Text Preprocessing**"
   ]
  },
  {
   "cell_type": "code",
   "execution_count": 3,
   "metadata": {},
   "outputs": [
    {
     "data": {
      "text/html": [
       "<div>\n",
       "<style scoped>\n",
       "    .dataframe tbody tr th:only-of-type {\n",
       "        vertical-align: middle;\n",
       "    }\n",
       "\n",
       "    .dataframe tbody tr th {\n",
       "        vertical-align: top;\n",
       "    }\n",
       "\n",
       "    .dataframe thead th {\n",
       "        text-align: right;\n",
       "    }\n",
       "</style>\n",
       "<table border=\"1\" class=\"dataframe\">\n",
       "  <thead>\n",
       "    <tr style=\"text-align: right;\">\n",
       "      <th></th>\n",
       "      <th>content</th>\n",
       "      <th>label</th>\n",
       "    </tr>\n",
       "  </thead>\n",
       "  <tbody>\n",
       "    <tr>\n",
       "      <th>0</th>\n",
       "      <td>PrestaShop Recipes A Problem Solution Approach...</td>\n",
       "      <td>NO</td>\n",
       "    </tr>\n",
       "    <tr>\n",
       "      <th>1</th>\n",
       "      <td>Nice post bond.  Just remove typo -       Or...</td>\n",
       "      <td>NO</td>\n",
       "    </tr>\n",
       "    <tr>\n",
       "      <th>2</th>\n",
       "      <td>Latest version of wifite (v2) has also inclu...</td>\n",
       "      <td>YES</td>\n",
       "    </tr>\n",
       "    <tr>\n",
       "      <th>3</th>\n",
       "      <td>On Sunday, the 28th of November 2010 around ...</td>\n",
       "      <td>YES</td>\n",
       "    </tr>\n",
       "    <tr>\n",
       "      <th>4</th>\n",
       "      <td>I have to strongly disagree with the statement...</td>\n",
       "      <td>NO</td>\n",
       "    </tr>\n",
       "    <tr>\n",
       "      <th>5</th>\n",
       "      <td>[RT] [USERNAME] Hack Remote Windows 10 Passwor...</td>\n",
       "      <td>YES</td>\n",
       "    </tr>\n",
       "    <tr>\n",
       "      <th>6</th>\n",
       "      <td>how to crack realityking.com</td>\n",
       "      <td>NO</td>\n",
       "    </tr>\n",
       "    <tr>\n",
       "      <th>7</th>\n",
       "      <td>THE BEST PRO WIFI HACKING TOOLS PACK 2017  Her...</td>\n",
       "      <td>YES</td>\n",
       "    </tr>\n",
       "    <tr>\n",
       "      <th>8</th>\n",
       "      <td>[RT] [USERNAME] Analysing the NULL SecurityDes...</td>\n",
       "      <td>YES</td>\n",
       "    </tr>\n",
       "    <tr>\n",
       "      <th>9</th>\n",
       "      <td>Quote: Originally Posted by ShockiNN Well the ...</td>\n",
       "      <td>NO</td>\n",
       "    </tr>\n",
       "  </tbody>\n",
       "</table>\n",
       "</div>"
      ],
      "text/plain": [
       "                                             content label\n",
       "0  PrestaShop Recipes A Problem Solution Approach...    NO\n",
       "1    Nice post bond.  Just remove typo -       Or...    NO\n",
       "2    Latest version of wifite (v2) has also inclu...   YES\n",
       "3    On Sunday, the 28th of November 2010 around ...   YES\n",
       "4  I have to strongly disagree with the statement...    NO\n",
       "5  [RT] [USERNAME] Hack Remote Windows 10 Passwor...   YES\n",
       "6                       how to crack realityking.com    NO\n",
       "7  THE BEST PRO WIFI HACKING TOOLS PACK 2017  Her...   YES\n",
       "8  [RT] [USERNAME] Analysing the NULL SecurityDes...   YES\n",
       "9  Quote: Originally Posted by ShockiNN Well the ...    NO"
      ]
     },
     "execution_count": 3,
     "metadata": {},
     "output_type": "execute_result"
    }
   ],
   "source": [
    "df = df.drop(columns=['dataset'])\n",
    "\n",
    "df.head(10)"
   ]
  },
  {
   "cell_type": "markdown",
   "metadata": {},
   "source": [
    "### **Step 1: Text Normalisation**"
   ]
  },
  {
   "cell_type": "code",
   "execution_count": 4,
   "metadata": {},
   "outputs": [
    {
     "data": {
      "text/html": [
       "<div>\n",
       "<style scoped>\n",
       "    .dataframe tbody tr th:only-of-type {\n",
       "        vertical-align: middle;\n",
       "    }\n",
       "\n",
       "    .dataframe tbody tr th {\n",
       "        vertical-align: top;\n",
       "    }\n",
       "\n",
       "    .dataframe thead th {\n",
       "        text-align: right;\n",
       "    }\n",
       "</style>\n",
       "<table border=\"1\" class=\"dataframe\">\n",
       "  <thead>\n",
       "    <tr style=\"text-align: right;\">\n",
       "      <th></th>\n",
       "      <th>content</th>\n",
       "      <th>label</th>\n",
       "    </tr>\n",
       "  </thead>\n",
       "  <tbody>\n",
       "    <tr>\n",
       "      <th>0</th>\n",
       "      <td>prestashop recipes a problem solution approach...</td>\n",
       "      <td>NO</td>\n",
       "    </tr>\n",
       "    <tr>\n",
       "      <th>1</th>\n",
       "      <td>nice post bond just remove typo originally pos...</td>\n",
       "      <td>NO</td>\n",
       "    </tr>\n",
       "    <tr>\n",
       "      <th>2</th>\n",
       "      <td>latest version of wifite v has also included t...</td>\n",
       "      <td>YES</td>\n",
       "    </tr>\n",
       "    <tr>\n",
       "      <th>3</th>\n",
       "      <td>on sunday the th of november around utc the ma...</td>\n",
       "      <td>YES</td>\n",
       "    </tr>\n",
       "    <tr>\n",
       "      <th>4</th>\n",
       "      <td>i have to strongly disagree with the statement...</td>\n",
       "      <td>NO</td>\n",
       "    </tr>\n",
       "    <tr>\n",
       "      <th>5</th>\n",
       "      <td>rt username hack remote windows password in pl...</td>\n",
       "      <td>YES</td>\n",
       "    </tr>\n",
       "    <tr>\n",
       "      <th>6</th>\n",
       "      <td>how to crack realitykingcom</td>\n",
       "      <td>NO</td>\n",
       "    </tr>\n",
       "    <tr>\n",
       "      <th>7</th>\n",
       "      <td>the best pro wifi hacking tools pack here we f...</td>\n",
       "      <td>YES</td>\n",
       "    </tr>\n",
       "    <tr>\n",
       "      <th>8</th>\n",
       "      <td>rt username analysing the null securitydescrip...</td>\n",
       "      <td>YES</td>\n",
       "    </tr>\n",
       "    <tr>\n",
       "      <th>9</th>\n",
       "      <td>quote originally posted by shockinn well the s...</td>\n",
       "      <td>NO</td>\n",
       "    </tr>\n",
       "  </tbody>\n",
       "</table>\n",
       "</div>"
      ],
      "text/plain": [
       "                                             content label\n",
       "0  prestashop recipes a problem solution approach...    NO\n",
       "1  nice post bond just remove typo originally pos...    NO\n",
       "2  latest version of wifite v has also included t...   YES\n",
       "3  on sunday the th of november around utc the ma...   YES\n",
       "4  i have to strongly disagree with the statement...    NO\n",
       "5  rt username hack remote windows password in pl...   YES\n",
       "6                        how to crack realitykingcom    NO\n",
       "7  the best pro wifi hacking tools pack here we f...   YES\n",
       "8  rt username analysing the null securitydescrip...   YES\n",
       "9  quote originally posted by shockinn well the s...    NO"
      ]
     },
     "execution_count": 4,
     "metadata": {},
     "output_type": "execute_result"
    }
   ],
   "source": [
    "def normalisation(text):\n",
    "    text = re.sub(r'http\\S+|www\\S+|https\\S+', '', text)     # Remove links\n",
    "    text = re.sub(r'[^a-zA-Z\\s]', '', text)                 # Remove special characters and numbers\n",
    "    text = re.sub(r'\\s+', ' ', text).strip()                # Remove extra spaces\n",
    "    return text.lower()                                     # Convert to lowercase\n",
    "\n",
    "df['content'] = df['content'].apply(normalisation)\n",
    "df.head(10)"
   ]
  },
  {
   "cell_type": "markdown",
   "metadata": {},
   "source": [
    "### **Step 2: Stopwords Removal**"
   ]
  },
  {
   "cell_type": "code",
   "execution_count": 5,
   "metadata": {},
   "outputs": [],
   "source": [
    "stop_words = set(stopwords.words('english'))\n",
    "\n",
    "df['content'] = df['content'].apply(lambda x: ' '.join([word for word in word_tokenize(x) if word not in stop_words]))"
   ]
  },
  {
   "cell_type": "markdown",
   "metadata": {},
   "source": [
    "### **Step 3: Tokenisation and Lemmatization**"
   ]
  },
  {
   "cell_type": "code",
   "execution_count": 6,
   "metadata": {},
   "outputs": [
    {
     "data": {
      "text/html": [
       "<div>\n",
       "<style scoped>\n",
       "    .dataframe tbody tr th:only-of-type {\n",
       "        vertical-align: middle;\n",
       "    }\n",
       "\n",
       "    .dataframe tbody tr th {\n",
       "        vertical-align: top;\n",
       "    }\n",
       "\n",
       "    .dataframe thead th {\n",
       "        text-align: right;\n",
       "    }\n",
       "</style>\n",
       "<table border=\"1\" class=\"dataframe\">\n",
       "  <thead>\n",
       "    <tr style=\"text-align: right;\">\n",
       "      <th></th>\n",
       "      <th>content</th>\n",
       "      <th>label</th>\n",
       "    </tr>\n",
       "  </thead>\n",
       "  <tbody>\n",
       "    <tr>\n",
       "      <th>0</th>\n",
       "      <td>prestashop recipe problem solution approach cu...</td>\n",
       "      <td>NO</td>\n",
       "    </tr>\n",
       "    <tr>\n",
       "      <th>1</th>\n",
       "      <td>nice post bond remove typo originally posted b...</td>\n",
       "      <td>NO</td>\n",
       "    </tr>\n",
       "    <tr>\n",
       "      <th>2</th>\n",
       "      <td>latest version wifite v also included attack v...</td>\n",
       "      <td>YES</td>\n",
       "    </tr>\n",
       "    <tr>\n",
       "      <th>3</th>\n",
       "      <td>sunday th november around utc main brdistribut...</td>\n",
       "      <td>YES</td>\n",
       "    </tr>\n",
       "    <tr>\n",
       "      <th>4</th>\n",
       "      <td>strongly disagree statement story phone hacked...</td>\n",
       "      <td>NO</td>\n",
       "    </tr>\n",
       "    <tr>\n",
       "      <th>5</th>\n",
       "      <td>rt username hack remote window password plain ...</td>\n",
       "      <td>YES</td>\n",
       "    </tr>\n",
       "    <tr>\n",
       "      <th>6</th>\n",
       "      <td>crack realitykingcom</td>\n",
       "      <td>NO</td>\n",
       "    </tr>\n",
       "    <tr>\n",
       "      <th>7</th>\n",
       "      <td>best pro wifi hacking tool pack figured three ...</td>\n",
       "      <td>YES</td>\n",
       "    </tr>\n",
       "    <tr>\n",
       "      <th>8</th>\n",
       "      <td>rt username analysing null securitydescriptor ...</td>\n",
       "      <td>YES</td>\n",
       "    </tr>\n",
       "    <tr>\n",
       "      <th>9</th>\n",
       "      <td>quote originally posted shockinn well site gav...</td>\n",
       "      <td>NO</td>\n",
       "    </tr>\n",
       "  </tbody>\n",
       "</table>\n",
       "</div>"
      ],
      "text/plain": [
       "                                             content label\n",
       "0  prestashop recipe problem solution approach cu...    NO\n",
       "1  nice post bond remove typo originally posted b...    NO\n",
       "2  latest version wifite v also included attack v...   YES\n",
       "3  sunday th november around utc main brdistribut...   YES\n",
       "4  strongly disagree statement story phone hacked...    NO\n",
       "5  rt username hack remote window password plain ...   YES\n",
       "6                               crack realitykingcom    NO\n",
       "7  best pro wifi hacking tool pack figured three ...   YES\n",
       "8  rt username analysing null securitydescriptor ...   YES\n",
       "9  quote originally posted shockinn well site gav...    NO"
      ]
     },
     "execution_count": 6,
     "metadata": {},
     "output_type": "execute_result"
    }
   ],
   "source": [
    "lemmatizer = WordNetLemmatizer()\n",
    "\n",
    "df['content'] = df['content'].apply(lambda x: ' '.join([lemmatizer.lemmatize(word) for word in word_tokenize(x)]))\n",
    "\n",
    "df.head(10)"
   ]
  },
  {
   "cell_type": "markdown",
   "metadata": {},
   "source": [
    "## **Model Training**"
   ]
  },
  {
   "cell_type": "code",
   "execution_count": 7,
   "metadata": {},
   "outputs": [
    {
     "name": "stdout",
     "output_type": "stream",
     "text": [
      "Training set size: 1692\n",
      "Testing set size: 424\n"
     ]
    }
   ],
   "source": [
    "vectorizer = CountVectorizer(max_features=1000)\n",
    "\n",
    "X = vectorizer.fit_transform(df['content']).toarray()\n",
    "y = df['label']\n",
    "\n",
    "label_encoder = LabelEncoder()\n",
    "y = label_encoder.fit_transform(y)\n",
    "\n",
    "X_train, X_test, y_train, y_test = train_test_split(X, y, test_size=0.2, random_state=42)\n",
    "\n",
    "print(f\"Training set size: {len(X_train)}\")\n",
    "print(f\"Testing set size: {len(X_test)}\")"
   ]
  },
  {
   "cell_type": "code",
   "execution_count": 8,
   "metadata": {},
   "outputs": [],
   "source": [
    "rf = RandomForestClassifier(n_estimators=100, random_state=42)\n",
    "rf.fit(X_train, y_train)\n",
    "\n",
    "rf_pred = rf.predict(X_test)"
   ]
  },
  {
   "cell_type": "markdown",
   "metadata": {},
   "source": [
    "## **Model Evaluation**"
   ]
  },
  {
   "cell_type": "code",
   "execution_count": 9,
   "metadata": {},
   "outputs": [],
   "source": [
    "def calculate_metrics(y_true, y_pred, conf_matrix):\n",
    "    tn, fp, _, _ = conf_matrix.ravel()\n",
    "\n",
    "    accuracy = accuracy_score(y_true, y_pred)\n",
    "    precision = precision_score(y_true, y_pred)\n",
    "    recall = recall_score(y_true, y_pred)\n",
    "    specificity = tn / (tn + fp)\n",
    "    f1 = f1_score(y_true, y_pred)\n",
    "\n",
    "    metrics = {\n",
    "        \"Accuracy\": accuracy,\n",
    "        \"Precision\": precision,\n",
    "        \"Recall\": recall,\n",
    "        \"Specificity\": specificity,\n",
    "        \"F1-score\": f1\n",
    "    }\n",
    "\n",
    "    return metrics\n",
    "\n",
    "def display_metrics(metrics):\n",
    "    for metric_name, metric_value in metrics.items():\n",
    "        print(f\"{metric_name.ljust(12)}: {metric_value * 100:.2f}%\")"
   ]
  },
  {
   "cell_type": "code",
   "execution_count": 10,
   "metadata": {},
   "outputs": [
    {
     "name": "stdout",
     "output_type": "stream",
     "text": [
      "Random Forest Performance:\n",
      "              precision    recall  f1-score   support\n",
      "\n",
      "           0       0.94      0.86      0.90       217\n",
      "           1       0.86      0.95      0.90       207\n",
      "\n",
      "    accuracy                           0.90       424\n",
      "   macro avg       0.90      0.90      0.90       424\n",
      "weighted avg       0.90      0.90      0.90       424\n",
      "\n",
      "Accuracy: 0.9009\n"
     ]
    }
   ],
   "source": [
    "print(\"Random Forest Performance:\")\n",
    "print(classification_report(y_test, rf_pred))\n",
    "print(f\"Accuracy: {accuracy_score(y_test, rf_pred):.4f}\")"
   ]
  },
  {
   "cell_type": "code",
   "execution_count": 11,
   "metadata": {},
   "outputs": [
    {
     "data": {
      "image/png": "[encoded data removed]",
      "text/plain": [
       "<Figure size 600x400 with 2 Axes>"
      ]
     },
     "metadata": {},
     "output_type": "display_data"
    },
    {
     "name": "stdout",
     "output_type": "stream",
     "text": [
      "Accuracy    : 90.09%\n",
      "Precision   : 86.34%\n",
      "Recall      : 94.69%\n",
      "Specificity : 85.71%\n",
      "F1-score    : 90.32%\n"
     ]
    }
   ],
   "source": [
    "conf_matrix_test = confusion_matrix(y_test, rf_pred)\n",
    "\n",
    "plt.figure(figsize=(6, 4))\n",
    "sns.heatmap(conf_matrix_test, annot=True, fmt='d', cmap='Blues',\n",
    "            xticklabels=rf.classes_, yticklabels=rf.classes_)\n",
    "plt.xlabel('Predicted')\n",
    "plt.ylabel('Actual')\n",
    "plt.title('Confusion Matrix')\n",
    "plt.show()\n",
    "\n",
    "metrics_test = calculate_metrics(y_test, rf_pred, conf_matrix_test)\n",
    "display_metrics(metrics_test)"
   ]
  },
  {
   "cell_type": "markdown",
   "metadata": {},
   "source": [
    "## **Hyperparameter Tuning**"
   ]
  },
  {
   "cell_type": "code",
   "execution_count": 12,
   "metadata": {},
   "outputs": [
    {
     "name": "stdout",
     "output_type": "stream",
     "text": [
      "Fitting 5 folds for each of 48 candidates, totalling 240 fits\n"
     ]
    },
    {
     "name": "stderr",
     "output_type": "stream",
     "text": [
      "c:\\Users\\Hp\\AppData\\Local\\Programs\\Python\\Python312\\Lib\\site-packages\\numpy\\ma\\core.py:2846: RuntimeWarning: invalid value encountered in cast\n",
      "  _data = np.array(data, dtype=dtype, copy=copy,\n"
     ]
    },
    {
     "name": "stdout",
     "output_type": "stream",
     "text": [
      "Best parameters for Random Forest: {'max_depth': 40, 'min_samples_split': 3, 'n_estimators': 100}\n"
     ]
    }
   ],
   "source": [
    "rf_param_grid = {\n",
    "    'n_estimators': [100, 200, 300],\n",
    "    'max_depth': [10, 20, 30, 40],\n",
    "    'min_samples_split': [3, 5, 7, 9]\n",
    "}\n",
    "\n",
    "rf = RandomForestClassifier(random_state=42)\n",
    "\n",
    "rf_grid_search = GridSearchCV(estimator=rf, param_grid=rf_param_grid, cv=5, n_jobs=-1, verbose=1)\n",
    "rf_grid_search.fit(X_train, y_train)\n",
    "\n",
    "print(f\"Best parameters for Random Forest: {rf_grid_search.best_params_}\")\n",
    "tuned_rf = rf_grid_search.best_estimator_\n",
    "\n",
    "tuned_rf_pred = tuned_rf.predict(X_test)"
   ]
  },
  {
   "cell_type": "markdown",
   "metadata": {},
   "source": [
    "## **Final Evaluation**"
   ]
  },
  {
   "cell_type": "code",
   "execution_count": 13,
   "metadata": {},
   "outputs": [
    {
     "name": "stdout",
     "output_type": "stream",
     "text": [
      "Random Forest Performance after Hyperparameter Tuning:\n",
      "              precision    recall  f1-score   support\n",
      "\n",
      "           0       0.93      0.89      0.91       217\n",
      "           1       0.89      0.93      0.91       207\n",
      "\n",
      "    accuracy                           0.91       424\n",
      "   macro avg       0.91      0.91      0.91       424\n",
      "weighted avg       0.91      0.91      0.91       424\n",
      "\n",
      "Accuracy: 0.9080\n"
     ]
    }
   ],
   "source": [
    "print(\"Random Forest Performance after Hyperparameter Tuning:\")\n",
    "print(classification_report(y_test, tuned_rf_pred))\n",
    "print(f\"Accuracy: {accuracy_score(y_test, tuned_rf_pred):.4f}\")"
   ]
  },
  {
   "cell_type": "code",
   "execution_count": 14,
   "metadata": {},
   "outputs": [
    {
     "data": {
      "image/png": "[encoded data removed]",
      "text/plain": [
       "<Figure size 600x400 with 2 Axes>"
      ]
     },
     "metadata": {},
     "output_type": "display_data"
    },
    {
     "name": "stdout",
     "output_type": "stream",
     "text": [
      "Accuracy    : 90.80%\n",
      "Precision   : 88.89%\n",
      "Recall      : 92.75%\n",
      "Specificity : 88.94%\n",
      "F1-score    : 90.78%\n"
     ]
    }
   ],
   "source": [
    "conf_matrix_test = confusion_matrix(y_test, tuned_rf_pred)\n",
    "\n",
    "plt.figure(figsize=(6, 4))\n",
    "sns.heatmap(conf_matrix_test, annot=True, fmt='d', cmap='Blues',\n",
    "            xticklabels=tuned_rf.classes_, yticklabels=tuned_rf.classes_)\n",
    "plt.xlabel('Predicted')\n",
    "plt.ylabel('Actual')\n",
    "plt.title('Confusion Matrix')\n",
    "plt.show()\n",
    "\n",
    "metrics_test = calculate_metrics(y_test, tuned_rf_pred, conf_matrix_test)\n",
    "display_metrics(metrics_test)"
   ]
  }
 ],
 "metadata": {
  "kernelspec": {
   "display_name": "Python 3",
   "language": "python",
   "name": "python3"
  },
  "language_info": {
   "codemirror_mode": {
    "name": "ipython",
    "version": 3
   },
   "file_extension": ".py",
   "mimetype": "text/x-python",
   "name": "python",
   "nbconvert_exporter": "python",
   "pygments_lexer": "ipython3",
   "version": "3.12.4"
  }
 },
 "nbformat": 4,
 "nbformat_minor": 2
}
