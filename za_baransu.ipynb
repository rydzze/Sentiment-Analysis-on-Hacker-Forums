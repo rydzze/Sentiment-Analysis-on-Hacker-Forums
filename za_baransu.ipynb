{
 "cells": [
  {
   "cell_type": "markdown",
   "metadata": {},
   "source": [
    "# **Za Baransu**"
   ]
  },
  {
   "cell_type": "markdown",
   "metadata": {},
   "source": [
    "## **Importing Library**"
   ]
  },
  {
   "cell_type": "code",
   "execution_count": 1,
   "metadata": {},
   "outputs": [],
   "source": [
    "import pandas as pd\n",
    "from sklearn.utils import resample"
   ]
  },
  {
   "cell_type": "markdown",
   "metadata": {},
   "source": [
    "## **Loading the Data**"
   ]
  },
  {
   "cell_type": "code",
   "execution_count": 2,
   "metadata": {},
   "outputs": [],
   "source": [
    "df1 = pd.read_csv(\"datasets/D1CrackingArena.csv\")\n",
    "df2 = pd.read_csv(\"datasets/D2Twitter.csv\")\n",
    "df3 = pd.read_csv(\"datasets/D3DreamMarket.csv\")\n",
    "df4 = pd.read_csv(\"datasets/D4Garage4hackers.csv\")\n",
    "df5 = pd.read_csv(\"datasets/D5CrackingFire.csv\")"
   ]
  },
  {
   "cell_type": "markdown",
   "metadata": {},
   "source": [
    "## **Observing Total Labelling**"
   ]
  },
  {
   "cell_type": "code",
   "execution_count": 3,
   "metadata": {},
   "outputs": [
    {
     "name": "stdout",
     "output_type": "stream",
     "text": [
      "label\n",
      "NO           1520\n",
      "YES           114\n",
      "Undecided      48\n",
      "Name: count, dtype: int64\n",
      "label\n",
      "NO           1633\n",
      "YES           243\n",
      "Undecided      51\n",
      "Name: count, dtype: int64\n",
      "label\n",
      "NO           1638\n",
      "YES           211\n",
      "Undecided      72\n",
      "Name: count, dtype: int64\n",
      "label\n",
      "NO           1704\n",
      "YES           225\n",
      "Undecided      37\n",
      "Name: count, dtype: int64\n",
      "label\n",
      "NO           1864\n",
      "YES            89\n",
      "Undecided      21\n",
      "Name: count, dtype: int64\n"
     ]
    }
   ],
   "source": [
    "print(df1['label'].value_counts())\n",
    "print(df2['label'].value_counts())\n",
    "print(df3['label'].value_counts())\n",
    "print(df4['label'].value_counts())\n",
    "print(df5['label'].value_counts())"
   ]
  },
  {
   "cell_type": "markdown",
   "metadata": {},
   "source": [
    "## **Combining the Datasets**"
   ]
  },
  {
   "cell_type": "code",
   "execution_count": 4,
   "metadata": {},
   "outputs": [
    {
     "name": "stdout",
     "output_type": "stream",
     "text": [
      "label\n",
      "NO           8359\n",
      "YES           882\n",
      "Undecided     229\n",
      "Name: count, dtype: int64\n"
     ]
    }
   ],
   "source": [
    "# Combine all datasets into one df\n",
    "combined_df = pd.concat([df1, df2, df3, df4, df5], ignore_index=True)\n",
    "\n",
    "# Check the distribution of labels\n",
    "print(combined_df['label'].value_counts())"
   ]
  },
  {
   "cell_type": "markdown",
   "metadata": {},
   "source": [
    "## **Dealing With Imbalanced Dataset**"
   ]
  },
  {
   "cell_type": "code",
   "execution_count": 5,
   "metadata": {},
   "outputs": [],
   "source": [
    "# Separate the data by labels\n",
    "yes_df = combined_df[combined_df['label'] == 'YES']\n",
    "no_df = combined_df[combined_df['label'] == 'NO']"
   ]
  },
  {
   "cell_type": "code",
   "execution_count": 6,
   "metadata": {},
   "outputs": [],
   "source": [
    "# Choose the minority class\n",
    "min_class_count = int(len(yes_df) * 1.2)"
   ]
  },
  {
   "cell_type": "code",
   "execution_count": 7,
   "metadata": {},
   "outputs": [],
   "source": [
    "# Oversampling \"YES\" (increase by 20%)\n",
    "new_yes_df = resample(yes_df, replace=True, n_samples=min_class_count, random_state=42)"
   ]
  },
  {
   "cell_type": "code",
   "execution_count": 8,
   "metadata": {},
   "outputs": [],
   "source": [
    "# Downsampling \"NO\" to match the size of oversampled \"YES\"\n",
    "new_no_df = resample(no_df, replace=False, n_samples=min_class_count, random_state=42)"
   ]
  },
  {
   "cell_type": "code",
   "execution_count": 9,
   "metadata": {},
   "outputs": [
    {
     "name": "stdout",
     "output_type": "stream",
     "text": [
      "label\n",
      "NO     1058\n",
      "YES    1058\n",
      "Name: count, dtype: int64\n"
     ]
    }
   ],
   "source": [
    "# Combine the \"YES\" and \"NO\" labels\n",
    "new_df = pd.concat([new_yes_df, new_no_df], ignore_index=True)\n",
    "\n",
    "# Shuffle the dataset\n",
    "new_df = new_df.sample(frac=1, random_state=42).reset_index(drop=True)\n",
    "\n",
    "# Check the distribution of labels\n",
    "print(new_df['label'].value_counts())"
   ]
  },
  {
   "cell_type": "markdown",
   "metadata": {},
   "source": [
    "## **Exporting the Dataset**"
   ]
  },
  {
   "cell_type": "code",
   "execution_count": 10,
   "metadata": {},
   "outputs": [
    {
     "name": "stdout",
     "output_type": "stream",
     "text": [
      "                                             content           dataset label\n",
      "0  PrestaShop Recipes A Problem Solution Approach...     D3DreamMarket    NO\n",
      "1    Nice post bond.  Just remove typo -       Or...  D4Garage4hackers    NO\n",
      "2    Latest version of wifite (v2) has also inclu...  D4Garage4hackers   YES\n",
      "3    On Sunday, the 28th of November 2010 around ...  D4Garage4hackers   YES\n",
      "4  I have to strongly disagree with the statement...         D2Twitter    NO\n",
      "5  [RT] [USERNAME] Hack Remote Windows 10 Passwor...         D2Twitter   YES\n",
      "6                       how to crack realityking.com    D2CrackingFire    NO\n",
      "7  THE BEST PRO WIFI HACKING TOOLS PACK 2017  Her...     D3DreamMarket   YES\n",
      "8  [RT] [USERNAME] Analysing the NULL SecurityDes...         D2Twitter   YES\n",
      "9  Quote: Originally Posted by ShockiNN Well the ...   D1CrackingArena    NO\n"
     ]
    }
   ],
   "source": [
    "# Export the dataset into a CSV file\n",
    "new_df.to_csv(\"datasets/combined_dataset.csv\", index=False)\n",
    "\n",
    "# Preview the dataset\n",
    "print(new_df.head(10))"
   ]
  }
 ],
 "metadata": {
  "kernelspec": {
   "display_name": "Python 3",
   "language": "python",
   "name": "python3"
  },
  "language_info": {
   "codemirror_mode": {
    "name": "ipython",
    "version": 3
   },
   "file_extension": ".py",
   "mimetype": "text/x-python",
   "name": "python",
   "nbconvert_exporter": "python",
   "pygments_lexer": "ipython3",
   "version": "3.12.4"
  }
 },
 "nbformat": 4,
 "nbformat_minor": 2
}
